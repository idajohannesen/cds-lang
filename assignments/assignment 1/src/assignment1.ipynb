{
 "cells": [
  {
   "cell_type": "markdown",
   "metadata": {},
   "source": [
    "# Assignment 1"
   ]
  },
  {
   "cell_type": "code",
   "execution_count": 5,
   "metadata": {},
   "outputs": [],
   "source": [
    "# install spacy and pandas in terminal, using \"pip install spacy pandas\""
   ]
  },
  {
   "cell_type": "code",
   "execution_count": 6,
   "metadata": {},
   "outputs": [],
   "source": [
    "import spacy\n",
    "import pandas as pd\n",
    "import os"
   ]
  },
  {
   "cell_type": "code",
   "execution_count": 7,
   "metadata": {},
   "outputs": [],
   "source": [
    "# install the model by typing in \"python -m spacy download en_core_web_md\" in the terminal"
   ]
  },
  {
   "cell_type": "code",
   "execution_count": 9,
   "metadata": {},
   "outputs": [],
   "source": [
    "nlp = spacy.load(\"en_core_web_md\")"
   ]
  },
  {
   "cell_type": "code",
   "execution_count": 10,
   "metadata": {},
   "outputs": [],
   "source": [
    "# folderpath = os.path.join(\"../input/USEcorpus/a1\")"
   ]
  },
  {
   "cell_type": "code",
   "execution_count": 19,
   "metadata": {},
   "outputs": [],
   "source": [
    "main_folder_path = \"../input/USEcorpus/\"\n",
    "sorted_dir = sorted(os.listdir(main_folder_path))"
   ]
  },
  {
   "cell_type": "code",
   "execution_count": 28,
   "metadata": {},
   "outputs": [
    {
     "ename": "IndentationError",
     "evalue": "unexpected indent (1164528371.py, line 2)",
     "output_type": "error",
     "traceback": [
      "\u001b[0;36m  Cell \u001b[0;32mIn[28], line 2\u001b[0;36m\u001b[0m\n\u001b[0;31m    text=file.read()\u001b[0m\n\u001b[0m    ^\u001b[0m\n\u001b[0;31mIndentationError\u001b[0m\u001b[0;31m:\u001b[0m unexpected indent\n"
     ]
    }
   ],
   "source": [
    "# with open(folder_path, \"r\", encoding=\"latin-1\") as file:\n",
    "    text=file.read()"
   ]
  },
  {
   "cell_type": "code",
   "execution_count": 50,
   "metadata": {},
   "outputs": [],
   "source": [
    "for folder in sorted_dir:\n",
    "    folder_path = os.path.join(main_folder_path, folder)\n",
    "    filenames = sorted(os.listdir(folder_path))\n",
    "    for text_file in filenames:\n",
    "        file_path = folder_path + \"/\" + text_file\n",
    "        with open (file_path, encoding=\"latin-1\") as file:\n",
    "            text = file.read()\n",
    "        doc = nlp(text)\n",
    "        # add each entity to list\n",
    "        for ent in doc.ents:\n",
    "            entities.append(ent.text)\n",
    "            print(set(entities))\n",
    "\n",
    "        #load file\n",
    "        #process with spacy\n",
    "        #save results"
   ]
  },
  {
   "cell_type": "code",
   "execution_count": 48,
   "metadata": {},
   "outputs": [
    {
     "name": "stdout",
     "output_type": "stream",
     "text": [
      "{'1994', 'Bronte', 'two', '257', '27', 'Grange', 'Catherine', 'L. Cookson', 'Story and History in Wuthering Heights', 'Dean', 'Paul', 'London', '1802', 'Nelly', 'Thomas A.', 'another half-hour', '83', 'ruff', 'Emily Bronte', 'eleven', 'Lockwood', 'America', '16', 'The Narrators of Wuthering Heights', 'Woodring', '139', 'chapter 31', '1801', 'Earnshaw', 'Longman Critical Essays, Eds', 'Carl R.', 'Heights', '95', '43', 'Vogler', '248', 'B. Longlerey\\n\\n', 'First', 'Wuthering Heights', 'Norgate', 'Heatcliff', '88'}\n"
     ]
    }
   ],
   "source": [
    "# create empty list\n",
    "entities = []\n",
    "\n",
    "# add each entity to list\n",
    "for ent in doc.ents:\n",
    "    entities.append(ent.text)\n",
    "print(set(entities))"
   ]
  },
  {
   "cell_type": "code",
   "execution_count": 41,
   "metadata": {},
   "outputs": [],
   "source": [
    "doc = nlp(text)"
   ]
  },
  {
   "cell_type": "code",
   "execution_count": 44,
   "metadata": {},
   "outputs": [
    {
     "name": "stdout",
     "output_type": "stream",
     "text": [
      "68\n"
     ]
    }
   ],
   "source": [
    "adjective_count = 0\n",
    "for token in doc:\n",
    "    if token.pos_ == \"ADJ\":\n",
    "        adjective_count += 1\n",
    "print(adjective_count)"
   ]
  }
 ],
 "metadata": {
  "kernelspec": {
   "display_name": "Python 3",
   "language": "python",
   "name": "python3"
  },
  "language_info": {
   "codemirror_mode": {
    "name": "ipython",
    "version": 3
   },
   "file_extension": ".py",
   "mimetype": "text/x-python",
   "name": "python",
   "nbconvert_exporter": "python",
   "pygments_lexer": "ipython3",
   "version": "3.10.12"
  }
 },
 "nbformat": 4,
 "nbformat_minor": 2
}
