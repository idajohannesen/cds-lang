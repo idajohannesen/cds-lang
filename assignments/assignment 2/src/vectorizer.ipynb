{
 "cells": [
  {
   "cell_type": "markdown",
   "metadata": {},
   "source": [
    "# Assignment 2 - Vectorizer"
   ]
  },
  {
   "cell_type": "code",
   "execution_count": 8,
   "metadata": {},
   "outputs": [],
   "source": [
    "# First, setup requires running the setup.sh file"
   ]
  },
  {
   "cell_type": "code",
   "execution_count": 9,
   "metadata": {},
   "outputs": [],
   "source": [
    "# system tools\n",
    "import os\n",
    "import sys\n",
    "sys.path.append(\"../../../../cds-lang-repo/cds-language\")\n",
    "\n",
    "# data munging tools\n",
    "import pandas as pd\n",
    "import utils.classifier_utils as clf\n",
    "\n",
    "# Machine learning stuff\n",
    "from sklearn.model_selection import train_test_split, ShuffleSplit\n",
    "from sklearn.feature_extraction.text import CountVectorizer, TfidfVectorizer\n",
    "from sklearn.linear_model import LogisticRegression\n",
    "from sklearn.neural_network import MLPClassifier\n",
    "from sklearn import metrics\n",
    "\n",
    "# Visualisation\n",
    "import matplotlib.pyplot as plt"
   ]
  },
  {
   "cell_type": "code",
   "execution_count": 10,
   "metadata": {},
   "outputs": [
    {
     "data": {
      "text/html": [
       "<div>\n",
       "<style scoped>\n",
       "    .dataframe tbody tr th:only-of-type {\n",
       "        vertical-align: middle;\n",
       "    }\n",
       "\n",
       "    .dataframe tbody tr th {\n",
       "        vertical-align: top;\n",
       "    }\n",
       "\n",
       "    .dataframe thead th {\n",
       "        text-align: right;\n",
       "    }\n",
       "</style>\n",
       "<table border=\"1\" class=\"dataframe\">\n",
       "  <thead>\n",
       "    <tr style=\"text-align: right;\">\n",
       "      <th></th>\n",
       "      <th>title</th>\n",
       "      <th>text</th>\n",
       "      <th>label</th>\n",
       "    </tr>\n",
       "  </thead>\n",
       "  <tbody>\n",
       "    <tr>\n",
       "      <th>3900</th>\n",
       "      <td>Obama says he learned of Clinton using private...</td>\n",
       "      <td>President Obama says he first learned from new...</td>\n",
       "      <td>REAL</td>\n",
       "    </tr>\n",
       "    <tr>\n",
       "      <th>4166</th>\n",
       "      <td>Sanders plans Tuesday meeting with Clinton to ...</td>\n",
       "      <td>Sen. Bernie Sanders said Sunday that he plans ...</td>\n",
       "      <td>REAL</td>\n",
       "    </tr>\n",
       "    <tr>\n",
       "      <th>6556</th>\n",
       "      <td>The Battleship Debate</td>\n",
       "      <td>By Michael Shrimpton on October 30, 2016 Some ...</td>\n",
       "      <td>FAKE</td>\n",
       "    </tr>\n",
       "    <tr>\n",
       "      <th>1318</th>\n",
       "      <td>Rachel Maddow made them fight: She’s the reaso...</td>\n",
       "      <td>It was, finally, the moment Democrats have bee...</td>\n",
       "      <td>REAL</td>\n",
       "    </tr>\n",
       "    <tr>\n",
       "      <th>2954</th>\n",
       "      <td>Disillusioned and self-deluded, Bowe Bergdahl ...</td>\n",
       "      <td>Army Pfc. Bowe Bergdahl was fed up. He was fiv...</td>\n",
       "      <td>REAL</td>\n",
       "    </tr>\n",
       "    <tr>\n",
       "      <th>1178</th>\n",
       "      <td>Bernie Sanders lost poor voters in South Carol...</td>\n",
       "      <td>Hillary Clinton didn't just take the vast majo...</td>\n",
       "      <td>REAL</td>\n",
       "    </tr>\n",
       "    <tr>\n",
       "      <th>4906</th>\n",
       "      <td>Where Donald Trump and Hillary Clinton stand o...</td>\n",
       "      <td>In the end, elections usually come back to the...</td>\n",
       "      <td>REAL</td>\n",
       "    </tr>\n",
       "    <tr>\n",
       "      <th>4521</th>\n",
       "      <td>French police swarm forest 'larger than Paris'...</td>\n",
       "      <td>DEVELOPING: French police are swarming a 51-sq...</td>\n",
       "      <td>REAL</td>\n",
       "    </tr>\n",
       "    <tr>\n",
       "      <th>3033</th>\n",
       "      <td>Place your bets now. How much does someone’s w...</td>\n",
       "      <td>Dan Kahan and his team at the Yale Law School’...</td>\n",
       "      <td>REAL</td>\n",
       "    </tr>\n",
       "    <tr>\n",
       "      <th>2160</th>\n",
       "      <td>Republicans outfox Democrats on climate votes</td>\n",
       "      <td>The party looks to Kamala Harris, Catherine Co...</td>\n",
       "      <td>REAL</td>\n",
       "    </tr>\n",
       "  </tbody>\n",
       "</table>\n",
       "</div>"
      ],
      "text/plain": [
       "                                                  title  \\\n",
       "3900  Obama says he learned of Clinton using private...   \n",
       "4166  Sanders plans Tuesday meeting with Clinton to ...   \n",
       "6556                              The Battleship Debate   \n",
       "1318  Rachel Maddow made them fight: She’s the reaso...   \n",
       "2954  Disillusioned and self-deluded, Bowe Bergdahl ...   \n",
       "1178  Bernie Sanders lost poor voters in South Carol...   \n",
       "4906  Where Donald Trump and Hillary Clinton stand o...   \n",
       "4521  French police swarm forest 'larger than Paris'...   \n",
       "3033  Place your bets now. How much does someone’s w...   \n",
       "2160      Republicans outfox Democrats on climate votes   \n",
       "\n",
       "                                                   text label  \n",
       "3900  President Obama says he first learned from new...  REAL  \n",
       "4166  Sen. Bernie Sanders said Sunday that he plans ...  REAL  \n",
       "6556  By Michael Shrimpton on October 30, 2016 Some ...  FAKE  \n",
       "1318  It was, finally, the moment Democrats have bee...  REAL  \n",
       "2954  Army Pfc. Bowe Bergdahl was fed up. He was fiv...  REAL  \n",
       "1178  Hillary Clinton didn't just take the vast majo...  REAL  \n",
       "4906  In the end, elections usually come back to the...  REAL  \n",
       "4521  DEVELOPING: French police are swarming a 51-sq...  REAL  \n",
       "3033  Dan Kahan and his team at the Yale Law School’...  REAL  \n",
       "2160  The party looks to Kamala Harris, Catherine Co...  REAL  "
      ]
     },
     "execution_count": 10,
     "metadata": {},
     "output_type": "execute_result"
    }
   ],
   "source": [
    "# load the data to a pandas csv\n",
    "filename = os.path.join(\"..\", \"..\", \"..\", \"..\", \"cds-lang-repo\", \"cds-language\", \"data\", \"fake_or_real_news.csv\")\n",
    "data = pd.read_csv(filename, index_col=0)\n",
    "data.sample(10)"
   ]
  },
  {
   "cell_type": "code",
   "execution_count": 11,
   "metadata": {},
   "outputs": [],
   "source": [
    "# create data variables containing data and labels\n",
    "X = data[\"text\"]\n",
    "y = data[\"label\"]"
   ]
  },
  {
   "cell_type": "code",
   "execution_count": 12,
   "metadata": {},
   "outputs": [],
   "source": [
    "# creating a 80/20 train-test split\n",
    "X_train, X_test, y_train, y_test = train_test_split(X,           # texts for the model\n",
    "                                                    y,          # classification labels\n",
    "                                                    test_size=0.2,   # 80/20 split\n",
    "                                                    random_state=42) # random state for reproducibility"
   ]
  },
  {
   "cell_type": "code",
   "execution_count": 13,
   "metadata": {},
   "outputs": [],
   "source": [
    "# creating a vectorizer object with the following parameters:\n",
    "vectorizer = TfidfVectorizer(ngram_range = (1,2),     # unigrams and bigrams\n",
    "                             lowercase =  True,       # make everything lowercase\n",
    "                             max_df = 0.95,           # remove 5% most common words\n",
    "                             min_df = 0.05,           # remove 5% rarest words\n",
    "                             max_features = 500)      # keep top 500 features"
   ]
  },
  {
   "cell_type": "code",
   "execution_count": 15,
   "metadata": {},
   "outputs": [
    {
     "data": {
      "text/plain": [
       "['../models/tfidf_vectorizer.joblib']"
      ]
     },
     "execution_count": 15,
     "metadata": {},
     "output_type": "execute_result"
    }
   ],
   "source": [
    "# saving the vectorizer for use in the models\n",
    "from joblib import dump, load\n",
    "model_folder = os.path.join(\"..\", \"models\")\n",
    "dump(vectorizer, model_folder + \"/\" + \"tfidf_vectorizer.joblib\")"
   ]
  }
 ],
 "metadata": {
  "kernelspec": {
   "display_name": "Python 3",
   "language": "python",
   "name": "python3"
  },
  "language_info": {
   "codemirror_mode": {
    "name": "ipython",
    "version": 3
   },
   "file_extension": ".py",
   "mimetype": "text/x-python",
   "name": "python",
   "nbconvert_exporter": "python",
   "pygments_lexer": "ipython3",
   "version": "3.10.12"
  }
 },
 "nbformat": 4,
 "nbformat_minor": 2
}
