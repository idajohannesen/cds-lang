{
 "cells": [
  {
   "cell_type": "markdown",
   "metadata": {},
   "source": [
    "# Language Analytics - Session 2"
   ]
  },
  {
   "cell_type": "code",
   "execution_count": 1,
   "metadata": {},
   "outputs": [],
   "source": [
    "colours = [\"red\", \"green\", \"blue\"]"
   ]
  },
  {
   "cell_type": "code",
   "execution_count": 2,
   "metadata": {},
   "outputs": [
    {
     "data": {
      "text/plain": [
       "['red', 'green', 'blue']"
      ]
     },
     "execution_count": 2,
     "metadata": {},
     "output_type": "execute_result"
    }
   ],
   "source": [
    "colours"
   ]
  },
  {
   "cell_type": "markdown",
   "metadata": {},
   "source": [
    "### ```for``` loop"
   ]
  },
  {
   "cell_type": "code",
   "execution_count": 8,
   "metadata": {},
   "outputs": [
    {
     "name": "stdout",
     "output_type": "stream",
     "text": [
      "red\n",
      "green\n",
      "blue\n"
     ]
    }
   ],
   "source": [
    "# the name 'colour' is arbitrary and could be replaced with any word (or several words joined by an underscore)\n",
    "for colour in colours: \n",
    "    print(colour)"
   ]
  },
  {
   "cell_type": "code",
   "execution_count": 13,
   "metadata": {},
   "outputs": [
    {
     "name": "stdout",
     "output_type": "stream",
     "text": [
      "RED!!\n",
      "GREEN!!\n",
      "BLUE!!\n"
     ]
    }
   ],
   "source": [
    "for colour in colours:\n",
    "    print(colour.upper()+\"!!\")"
   ]
  },
  {
   "cell_type": "code",
   "execution_count": 12,
   "metadata": {},
   "outputs": [
    {
     "name": "stdout",
     "output_type": "stream",
     "text": [
      "RED!!\n",
      "GREEN!!\n",
      "BLUE!!\n"
     ]
    }
   ],
   "source": [
    "# different way to format ^, a little easier to read\n",
    "for colour in colours:\n",
    "    shouted_colour = colour.upper()+\"!!\"\n",
    "    print(shouted_colour)"
   ]
  },
  {
   "cell_type": "code",
   "execution_count": 16,
   "metadata": {},
   "outputs": [
    {
     "name": "stdout",
     "output_type": "stream",
     "text": [
      "RED!!\n",
      "GREEN!!\n",
      "BLUE!!\n"
     ]
    }
   ],
   "source": [
    "# create new, empty list\n",
    "shouted_colours = []\n",
    "\n",
    "# for each colour in the list called colours\n",
    "for colour in colours:\n",
    "    # make it uppercase and add exclamation points\n",
    "    shouted_colour = colour.upper()+\"!!\"\n",
    "    # add this to the external list\n",
    "    shouted_colours.append(shouted_colour)\n",
    "    # print to screen\n",
    "    print(shouted_colour)"
   ]
  },
  {
   "cell_type": "code",
   "execution_count": 15,
   "metadata": {},
   "outputs": [
    {
     "data": {
      "text/plain": [
       "['RED!!', 'GREEN!!', 'BLUE!!']"
      ]
     },
     "execution_count": 15,
     "metadata": {},
     "output_type": "execute_result"
    }
   ],
   "source": [
    "shouted_colours"
   ]
  },
  {
   "cell_type": "markdown",
   "metadata": {},
   "source": [
    "## ```if/else```"
   ]
  },
  {
   "cell_type": "code",
   "execution_count": 17,
   "metadata": {},
   "outputs": [
    {
     "name": "stdout",
     "output_type": "stream",
     "text": [
      "GREEN!!\n"
     ]
    }
   ],
   "source": [
    "for colour in colours:\n",
    "    if colour == \"green\":\n",
    "        print(colour.upper()+\"!!\")"
   ]
  },
  {
   "cell_type": "code",
   "execution_count": 18,
   "metadata": {},
   "outputs": [
    {
     "name": "stdout",
     "output_type": "stream",
     "text": [
      "red\n",
      "GREEN!!\n",
      "blue\n"
     ]
    }
   ],
   "source": [
    "for colour in colours:\n",
    "    if colour == \"green\":\n",
    "        print(colour.upper()+\"!!\")\n",
    "    else:\n",
    "        print(colour)"
   ]
  },
  {
   "cell_type": "code",
   "execution_count": 19,
   "metadata": {},
   "outputs": [
    {
     "name": "stdout",
     "output_type": "stream",
     "text": [
      "*red*\n",
      "GREEN!!\n",
      "blue\n"
     ]
    }
   ],
   "source": [
    "for colour in colours:\n",
    "    if colour == \"green\":\n",
    "        print(colour.upper()+\"!!\")\n",
    "    elif colour == \"red\":\n",
    "        print(\"*\"+colour+\"*\")\n",
    "    else:\n",
    "        print(colour)"
   ]
  },
  {
   "cell_type": "code",
   "execution_count": 20,
   "metadata": {},
   "outputs": [],
   "source": [
    "weird_list = [\"red\", \"green\", 10, \"blue\"]"
   ]
  },
  {
   "cell_type": "code",
   "execution_count": 21,
   "metadata": {},
   "outputs": [
    {
     "name": "stdout",
     "output_type": "stream",
     "text": [
      "Not a number!\n",
      "Not a number!\n",
      "5.0\n",
      "Not a number!\n"
     ]
    }
   ],
   "source": [
    "# exception handling\n",
    "for value in weird_list:\n",
    "    if type(value) == int:\n",
    "        print(value/2)\n",
    "    else:\n",
    "        print(\"Not a number!\")"
   ]
  },
  {
   "cell_type": "code",
   "execution_count": 23,
   "metadata": {},
   "outputs": [
    {
     "name": "stdout",
     "output_type": "stream",
     "text": [
      "5.0\n"
     ]
    }
   ],
   "source": [
    "for value in weird_list:\n",
    "    if type(value) == int:\n",
    "        print(value/2)\n",
    "    else:\n",
    "        # passing over the variable and doing nothing. avoids the error message that wouldve otherwise happened when trying to divide strings\n",
    "        pass"
   ]
  },
  {
   "cell_type": "markdown",
   "metadata": {},
   "source": [
    "# Exception handling"
   ]
  },
  {
   "cell_type": "code",
   "execution_count": 24,
   "metadata": {},
   "outputs": [
    {
     "name": "stdout",
     "output_type": "stream",
     "text": [
      "Not a number!\n",
      "Not a number!\n",
      "5.0\n",
      "Not a number!\n"
     ]
    }
   ],
   "source": [
    "# this can help if you are not sure exactly what variables and types are in the data set \n",
    "# tells python to try running the first line and if it encounters an error, it runs the 'except' line instead\n",
    "for value in weird_list:\n",
    "    try:\n",
    "        print(value/2)\n",
    "    except:\n",
    "        print(\"Not a number!\")"
   ]
  },
  {
   "cell_type": "code",
   "execution_count": null,
   "metadata": {},
   "outputs": [],
   "source": []
  }
 ],
 "metadata": {
  "kernelspec": {
   "display_name": "Python 3",
   "language": "python",
   "name": "python3"
  },
  "language_info": {
   "codemirror_mode": {
    "name": "ipython",
    "version": 3
   },
   "file_extension": ".py",
   "mimetype": "text/x-python",
   "name": "python",
   "nbconvert_exporter": "python",
   "pygments_lexer": "ipython3",
   "version": "3.10.12"
  }
 },
 "nbformat": 4,
 "nbformat_minor": 2
}
